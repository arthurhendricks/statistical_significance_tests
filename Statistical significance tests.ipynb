{
 "cells": [
  {
   "cell_type": "markdown",
   "id": "805479d6",
   "metadata": {},
   "source": [
    "# blood pressure (bp) and whether or not the person diabetic type."
   ]
  },
  {
   "cell_type": "code",
   "execution_count": 90,
   "id": "dd5d1aff",
   "metadata": {},
   "outputs": [
    {
     "data": {
      "text/html": [
       "<div>\n",
       "<style scoped>\n",
       "    .dataframe tbody tr th:only-of-type {\n",
       "        vertical-align: middle;\n",
       "    }\n",
       "\n",
       "    .dataframe tbody tr th {\n",
       "        vertical-align: top;\n",
       "    }\n",
       "\n",
       "    .dataframe thead th {\n",
       "        text-align: right;\n",
       "    }\n",
       "</style>\n",
       "<table border=\"1\" class=\"dataframe\">\n",
       "  <thead>\n",
       "    <tr style=\"text-align: right;\">\n",
       "      <th></th>\n",
       "      <th>bp</th>\n",
       "      <th>type</th>\n",
       "    </tr>\n",
       "  </thead>\n",
       "  <tbody>\n",
       "    <tr>\n",
       "      <th>0</th>\n",
       "      <td>68</td>\n",
       "      <td>No</td>\n",
       "    </tr>\n",
       "    <tr>\n",
       "      <th>1</th>\n",
       "      <td>70</td>\n",
       "      <td>Yes</td>\n",
       "    </tr>\n",
       "    <tr>\n",
       "      <th>2</th>\n",
       "      <td>82</td>\n",
       "      <td>No</td>\n",
       "    </tr>\n",
       "    <tr>\n",
       "      <th>3</th>\n",
       "      <td>76</td>\n",
       "      <td>No</td>\n",
       "    </tr>\n",
       "    <tr>\n",
       "      <th>4</th>\n",
       "      <td>60</td>\n",
       "      <td>No</td>\n",
       "    </tr>\n",
       "  </tbody>\n",
       "</table>\n",
       "</div>"
      ],
      "text/plain": [
       "   bp type\n",
       "0  68   No\n",
       "1  70  Yes\n",
       "2  82   No\n",
       "3  76   No\n",
       "4  60   No"
      ]
     },
     "execution_count": 90,
     "metadata": {},
     "output_type": "execute_result"
    }
   ],
   "source": [
    "import numpy as np\n",
    "import pandas as pd\n",
    "import scipy.stats as stats\n",
    "import matplotlib.pyplot as plt\n",
    "\n",
    "bp = pd.read_csv(\"bp.csv\", sep=',', header = 0)\n",
    "\n",
    "bp.head()"
   ]
  },
  {
   "cell_type": "markdown",
   "id": "51bd711c",
   "metadata": {},
   "source": [
    "### Histogram of blonde pressure."
   ]
  },
  {
   "cell_type": "code",
   "execution_count": 91,
   "id": "b137e218",
   "metadata": {},
   "outputs": [
    {
     "data": {
      "text/plain": [
       "<matplotlib.legend.Legend at 0x7f2fabaacd60>"
      ]
     },
     "execution_count": 91,
     "metadata": {},
     "output_type": "execute_result"
    },
    {
     "data": {
      "image/png": "[encoded data removed]",
      "text/plain": [
       "<Figure size 504x360 with 1 Axes>"
      ]
     },
     "metadata": {
      "needs_background": "light"
     },
     "output_type": "display_data"
    }
   ],
   "source": [
    "plt.figure(figsize=(7, 5))\n",
    "\n",
    "bp[bp.type=='No']['bp'].hist(alpha=0.6,bins=25,label='diabetic persons', density=True)\n",
    "bp[bp.type=='Yes']['bp'].hist(alpha=0.8,bins=25,label='non diabetic persons', density=True)\n",
    "\n",
    "plt.xlabel('blonde pressure')\n",
    "plt.legend()"
   ]
  },
  {
   "cell_type": "markdown",
   "id": "b3f50842",
   "metadata": {},
   "source": [
    "### Boxplot of blonde pressure per type of person (with diabetic or no)."
   ]
  },
  {
   "cell_type": "code",
   "execution_count": 92,
   "id": "c075c9e2",
   "metadata": {},
   "outputs": [
    {
     "data": {
      "image/png": "[encoded data removed]",
      "text/plain": [
       "<Figure size 504x360 with 1 Axes>"
      ]
     },
     "metadata": {
      "needs_background": "light"
     },
     "output_type": "display_data"
    }
   ],
   "source": [
    "import seaborn as sns\n",
    "\n",
    "plt.figure(figsize=(7, 5))\n",
    "fig = sns.boxplot(x='type',y='bp',data=df)"
   ]
  },
  {
   "cell_type": "markdown",
   "id": "5b2c622d",
   "metadata": {},
   "source": [
    "### blood pressure dataframe for diabetic persons."
   ]
  },
  {
   "cell_type": "code",
   "execution_count": 93,
   "id": "94eb7f98",
   "metadata": {},
   "outputs": [
    {
     "data": {
      "text/html": [
       "<div>\n",
       "<style scoped>\n",
       "    .dataframe tbody tr th:only-of-type {\n",
       "        vertical-align: middle;\n",
       "    }\n",
       "\n",
       "    .dataframe tbody tr th {\n",
       "        vertical-align: top;\n",
       "    }\n",
       "\n",
       "    .dataframe thead th {\n",
       "        text-align: right;\n",
       "    }\n",
       "</style>\n",
       "<table border=\"1\" class=\"dataframe\">\n",
       "  <thead>\n",
       "    <tr style=\"text-align: right;\">\n",
       "      <th></th>\n",
       "      <th>bp</th>\n",
       "      <th>type</th>\n",
       "    </tr>\n",
       "  </thead>\n",
       "  <tbody>\n",
       "    <tr>\n",
       "      <th>1</th>\n",
       "      <td>70</td>\n",
       "      <td>Yes</td>\n",
       "    </tr>\n",
       "    <tr>\n",
       "      <th>5</th>\n",
       "      <td>76</td>\n",
       "      <td>Yes</td>\n",
       "    </tr>\n",
       "    <tr>\n",
       "      <th>9</th>\n",
       "      <td>78</td>\n",
       "      <td>Yes</td>\n",
       "    </tr>\n",
       "    <tr>\n",
       "      <th>10</th>\n",
       "      <td>40</td>\n",
       "      <td>Yes</td>\n",
       "    </tr>\n",
       "    <tr>\n",
       "      <th>12</th>\n",
       "      <td>60</td>\n",
       "      <td>Yes</td>\n",
       "    </tr>\n",
       "  </tbody>\n",
       "</table>\n",
       "</div>"
      ],
      "text/plain": [
       "    bp type\n",
       "1   70  Yes\n",
       "5   76  Yes\n",
       "9   78  Yes\n",
       "10  40  Yes\n",
       "12  60  Yes"
      ]
     },
     "execution_count": 93,
     "metadata": {},
     "output_type": "execute_result"
    }
   ],
   "source": [
    "bp_yes = bp[\"type\"] == 'Yes'\n",
    "bp_yes = bp[bp_yes]\n",
    "\n",
    "bp_yes.head()"
   ]
  },
  {
   "cell_type": "code",
   "execution_count": 94,
   "id": "578420f5",
   "metadata": {},
   "outputs": [
    {
     "data": {
      "text/html": [
       "<div>\n",
       "<style scoped>\n",
       "    .dataframe tbody tr th:only-of-type {\n",
       "        vertical-align: middle;\n",
       "    }\n",
       "\n",
       "    .dataframe tbody tr th {\n",
       "        vertical-align: top;\n",
       "    }\n",
       "\n",
       "    .dataframe thead th {\n",
       "        text-align: right;\n",
       "    }\n",
       "</style>\n",
       "<table border=\"1\" class=\"dataframe\">\n",
       "  <thead>\n",
       "    <tr style=\"text-align: right;\">\n",
       "      <th></th>\n",
       "      <th>bp</th>\n",
       "    </tr>\n",
       "  </thead>\n",
       "  <tbody>\n",
       "    <tr>\n",
       "      <th>count</th>\n",
       "      <td>68.000000</td>\n",
       "    </tr>\n",
       "    <tr>\n",
       "      <th>mean</th>\n",
       "      <td>74.588235</td>\n",
       "    </tr>\n",
       "    <tr>\n",
       "      <th>std</th>\n",
       "      <td>11.583874</td>\n",
       "    </tr>\n",
       "    <tr>\n",
       "      <th>min</th>\n",
       "      <td>40.000000</td>\n",
       "    </tr>\n",
       "    <tr>\n",
       "      <th>25%</th>\n",
       "      <td>67.500000</td>\n",
       "    </tr>\n",
       "    <tr>\n",
       "      <th>50%</th>\n",
       "      <td>76.000000</td>\n",
       "    </tr>\n",
       "    <tr>\n",
       "      <th>75%</th>\n",
       "      <td>82.000000</td>\n",
       "    </tr>\n",
       "    <tr>\n",
       "      <th>max</th>\n",
       "      <td>106.000000</td>\n",
       "    </tr>\n",
       "  </tbody>\n",
       "</table>\n",
       "</div>"
      ],
      "text/plain": [
       "               bp\n",
       "count   68.000000\n",
       "mean    74.588235\n",
       "std     11.583874\n",
       "min     40.000000\n",
       "25%     67.500000\n",
       "50%     76.000000\n",
       "75%     82.000000\n",
       "max    106.000000"
      ]
     },
     "execution_count": 94,
     "metadata": {},
     "output_type": "execute_result"
    }
   ],
   "source": [
    "bp_yes.describe()"
   ]
  },
  {
   "cell_type": "markdown",
   "id": "754fabbd",
   "metadata": {},
   "source": [
    "### blood pressure dataframe for non diabetic persons."
   ]
  },
  {
   "cell_type": "code",
   "execution_count": 95,
   "id": "d99d6362",
   "metadata": {},
   "outputs": [
    {
     "data": {
      "text/html": [
       "<div>\n",
       "<style scoped>\n",
       "    .dataframe tbody tr th:only-of-type {\n",
       "        vertical-align: middle;\n",
       "    }\n",
       "\n",
       "    .dataframe tbody tr th {\n",
       "        vertical-align: top;\n",
       "    }\n",
       "\n",
       "    .dataframe thead th {\n",
       "        text-align: right;\n",
       "    }\n",
       "</style>\n",
       "<table border=\"1\" class=\"dataframe\">\n",
       "  <thead>\n",
       "    <tr style=\"text-align: right;\">\n",
       "      <th></th>\n",
       "      <th>bp</th>\n",
       "      <th>type</th>\n",
       "    </tr>\n",
       "  </thead>\n",
       "  <tbody>\n",
       "    <tr>\n",
       "      <th>0</th>\n",
       "      <td>68</td>\n",
       "      <td>No</td>\n",
       "    </tr>\n",
       "    <tr>\n",
       "      <th>2</th>\n",
       "      <td>82</td>\n",
       "      <td>No</td>\n",
       "    </tr>\n",
       "    <tr>\n",
       "      <th>3</th>\n",
       "      <td>76</td>\n",
       "      <td>No</td>\n",
       "    </tr>\n",
       "    <tr>\n",
       "      <th>4</th>\n",
       "      <td>60</td>\n",
       "      <td>No</td>\n",
       "    </tr>\n",
       "    <tr>\n",
       "      <th>6</th>\n",
       "      <td>58</td>\n",
       "      <td>No</td>\n",
       "    </tr>\n",
       "  </tbody>\n",
       "</table>\n",
       "</div>"
      ],
      "text/plain": [
       "   bp type\n",
       "0  68   No\n",
       "2  82   No\n",
       "3  76   No\n",
       "4  60   No\n",
       "6  58   No"
      ]
     },
     "execution_count": 95,
     "metadata": {},
     "output_type": "execute_result"
    }
   ],
   "source": [
    "bp_no = bp[\"type\"] == 'No'\n",
    "bp_no = bp[bp_no]\n",
    "\n",
    "bp_no.head()"
   ]
  },
  {
   "cell_type": "code",
   "execution_count": 96,
   "id": "de4c6b57",
   "metadata": {},
   "outputs": [
    {
     "data": {
      "text/html": [
       "<div>\n",
       "<style scoped>\n",
       "    .dataframe tbody tr th:only-of-type {\n",
       "        vertical-align: middle;\n",
       "    }\n",
       "\n",
       "    .dataframe tbody tr th {\n",
       "        vertical-align: top;\n",
       "    }\n",
       "\n",
       "    .dataframe thead th {\n",
       "        text-align: right;\n",
       "    }\n",
       "</style>\n",
       "<table border=\"1\" class=\"dataframe\">\n",
       "  <thead>\n",
       "    <tr style=\"text-align: right;\">\n",
       "      <th></th>\n",
       "      <th>bp</th>\n",
       "    </tr>\n",
       "  </thead>\n",
       "  <tbody>\n",
       "    <tr>\n",
       "      <th>count</th>\n",
       "      <td>132.000000</td>\n",
       "    </tr>\n",
       "    <tr>\n",
       "      <th>mean</th>\n",
       "      <td>69.545455</td>\n",
       "    </tr>\n",
       "    <tr>\n",
       "      <th>std</th>\n",
       "      <td>11.083557</td>\n",
       "    </tr>\n",
       "    <tr>\n",
       "      <th>min</th>\n",
       "      <td>38.000000</td>\n",
       "    </tr>\n",
       "    <tr>\n",
       "      <th>25%</th>\n",
       "      <td>62.000000</td>\n",
       "    </tr>\n",
       "    <tr>\n",
       "      <th>50%</th>\n",
       "      <td>70.000000</td>\n",
       "    </tr>\n",
       "    <tr>\n",
       "      <th>75%</th>\n",
       "      <td>76.000000</td>\n",
       "    </tr>\n",
       "    <tr>\n",
       "      <th>max</th>\n",
       "      <td>110.000000</td>\n",
       "    </tr>\n",
       "  </tbody>\n",
       "</table>\n",
       "</div>"
      ],
      "text/plain": [
       "               bp\n",
       "count  132.000000\n",
       "mean    69.545455\n",
       "std     11.083557\n",
       "min     38.000000\n",
       "25%     62.000000\n",
       "50%     70.000000\n",
       "75%     76.000000\n",
       "max    110.000000"
      ]
     },
     "execution_count": 96,
     "metadata": {},
     "output_type": "execute_result"
    }
   ],
   "source": [
    "bp_no.describe()"
   ]
  },
  {
   "cell_type": "markdown",
   "id": "6e867522",
   "metadata": {},
   "source": [
    "## blood pressure T-test"
   ]
  },
  {
   "cell_type": "code",
   "execution_count": 97,
   "id": "9ec184d2",
   "metadata": {},
   "outputs": [
    {
     "data": {
      "text/plain": [
       "Ttest_indResult(statistic=3.001495202122035, pvalue=0.0030323591864622732)"
      ]
     },
     "execution_count": 97,
     "metadata": {},
     "output_type": "execute_result"
    }
   ],
   "source": [
    "stats.ttest_ind(bp_yes['bp'], bp_no['bp'])"
   ]
  },
  {
   "cell_type": "code",
   "execution_count": 98,
   "id": "2c9e40fd",
   "metadata": {},
   "outputs": [
    {
     "name": "stdout",
     "output_type": "stream",
     "text": [
      "the difference is lower than 0.05, so the test is significant.\n"
     ]
    }
   ],
   "source": [
    "print('the difference is lower than 0.05, so the test is significant.')"
   ]
  },
  {
   "cell_type": "markdown",
   "id": "a1f8818b",
   "metadata": {},
   "source": [
    "## blood pressure Wilcoxon rank sums"
   ]
  },
  {
   "cell_type": "code",
   "execution_count": 99,
   "id": "3e6e2b47",
   "metadata": {},
   "outputs": [
    {
     "name": "stdout",
     "output_type": "stream",
     "text": [
      "stat=3.046, p=0.002\n"
     ]
    }
   ],
   "source": [
    "stat, p = stats.ranksums(bp_yes['bp'], bp_no['bp'])\n",
    "print('stat=%.3f, p=%.3f' % (stat, p))"
   ]
  },
  {
   "cell_type": "code",
   "execution_count": 100,
   "id": "e7f839a2",
   "metadata": {},
   "outputs": [
    {
     "name": "stdout",
     "output_type": "stream",
     "text": [
      "probably different distributions.\n"
     ]
    }
   ],
   "source": [
    "if (p > 0.05):\n",
    "    \n",
    "    print('probably the same distribution.')\n",
    "\n",
    "else: \n",
    "\n",
    "    print('probably different distributions.')"
   ]
  },
  {
   "cell_type": "markdown",
   "id": "43687fee",
   "metadata": {},
   "source": [
    "## 95% confidence interval."
   ]
  },
  {
   "cell_type": "code",
   "execution_count": 101,
   "id": "3a182299",
   "metadata": {},
   "outputs": [
    {
     "name": "stdout",
     "output_type": "stream",
     "text": [
      "ConfidenceInterval(low=71.77941176470588, high=77.29411764705883)\n"
     ]
    }
   ],
   "source": [
    "#diabetics.\n",
    "\n",
    "bp_yes_array = (bp_yes['bp'],)\n",
    "bootstrap_ci_diabetics = stats.bootstrap(bp_yes_array, np.mean, confidence_level=0.95,\n",
    "                         random_state=1, method='BCa')\n",
    "#IC 95% \n",
    "print(bootstrap_ci_diabetics.confidence_interval)"
   ]
  },
  {
   "cell_type": "code",
   "execution_count": 102,
   "id": "134b2708",
   "metadata": {},
   "outputs": [
    {
     "name": "stdout",
     "output_type": "stream",
     "text": [
      "ConfidenceInterval(low=67.6590909090909, high=71.47727272727273)\n"
     ]
    }
   ],
   "source": [
    "#non diabetics.\n",
    "\n",
    "bp_no_array = (bp_no['bp'],)\n",
    "bootstrap_ci_non_diabetics = stats.bootstrap(bp_no_array, np.mean, confidence_level=0.95,\n",
    "                         random_state=1, method='BCa')\n",
    "#IC 95% \n",
    "print(bootstrap_ci_non_diabetics.confidence_interval)"
   ]
  },
  {
   "cell_type": "markdown",
   "id": "a72f705b",
   "metadata": {},
   "source": [
    "## Cohen D"
   ]
  },
  {
   "cell_type": "code",
   "execution_count": 103,
   "id": "e1664d76",
   "metadata": {},
   "outputs": [
    {
     "name": "stdout",
     "output_type": "stream",
     "text": [
      "Cohens d: 0.448\n"
     ]
    }
   ],
   "source": [
    "from math import sqrt\n",
    " \n",
    "# function to calculate Cohen's d for independent samples\n",
    "def cohend(d1, d2):\n",
    "    n1, n2 = len(d1), len(d2)\n",
    "    # calculate the variance of the samples\n",
    "    s1, s2 = np.var(d1, ddof=1), np.var(d2, ddof=1)\n",
    "    # calculate the pooled standard deviation\n",
    "    s = sqrt(((n1 - 1) * s1 + (n2 - 1) * s2) / (n1 + n2 - 2))\n",
    "    # calculate the means of the samples\n",
    "    u1, u2 = np.mean(d1), np.mean(d2)\n",
    "    # calculate the effect size\n",
    "    return (u1 - u2) / s\n",
    "\n",
    "# calculate cohen's d\n",
    "d = cohend(bp_yes['bp'], bp_no['bp'])\n",
    "print('Cohens d: %.3f' % d)"
   ]
  },
  {
   "cell_type": "markdown",
   "id": "fa6f34c3",
   "metadata": {},
   "source": [
    "# paired dataframe."
   ]
  },
  {
   "cell_type": "code",
   "execution_count": 104,
   "id": "c3737dfb",
   "metadata": {},
   "outputs": [
    {
     "data": {
      "text/html": [
       "<div>\n",
       "<style scoped>\n",
       "    .dataframe tbody tr th:only-of-type {\n",
       "        vertical-align: middle;\n",
       "    }\n",
       "\n",
       "    .dataframe tbody tr th {\n",
       "        vertical-align: top;\n",
       "    }\n",
       "\n",
       "    .dataframe thead th {\n",
       "        text-align: right;\n",
       "    }\n",
       "</style>\n",
       "<table border=\"1\" class=\"dataframe\">\n",
       "  <thead>\n",
       "    <tr style=\"text-align: right;\">\n",
       "      <th></th>\n",
       "      <th>Clone</th>\n",
       "      <th>August</th>\n",
       "      <th>November</th>\n",
       "    </tr>\n",
       "  </thead>\n",
       "  <tbody>\n",
       "    <tr>\n",
       "      <th>0</th>\n",
       "      <td>Balsam_Spire</td>\n",
       "      <td>8.1</td>\n",
       "      <td>11.2</td>\n",
       "    </tr>\n",
       "    <tr>\n",
       "      <th>1</th>\n",
       "      <td>Beaupre</td>\n",
       "      <td>10.0</td>\n",
       "      <td>16.3</td>\n",
       "    </tr>\n",
       "    <tr>\n",
       "      <th>2</th>\n",
       "      <td>Hazendans</td>\n",
       "      <td>16.5</td>\n",
       "      <td>15.3</td>\n",
       "    </tr>\n",
       "    <tr>\n",
       "      <th>3</th>\n",
       "      <td>Hoogvorst</td>\n",
       "      <td>13.6</td>\n",
       "      <td>15.6</td>\n",
       "    </tr>\n",
       "    <tr>\n",
       "      <th>4</th>\n",
       "      <td>Raspalje</td>\n",
       "      <td>9.5</td>\n",
       "      <td>10.5</td>\n",
       "    </tr>\n",
       "  </tbody>\n",
       "</table>\n",
       "</div>"
      ],
      "text/plain": [
       "          Clone  August  November\n",
       "0  Balsam_Spire     8.1      11.2\n",
       "1       Beaupre    10.0      16.3\n",
       "2     Hazendans    16.5      15.3\n",
       "3     Hoogvorst    13.6      15.6\n",
       "4      Raspalje     9.5      10.5"
      ]
     },
     "execution_count": 104,
     "metadata": {},
     "output_type": "execute_result"
    }
   ],
   "source": [
    "import numpy as np\n",
    "import pandas as pd\n",
    "import scipy.stats as stats\n",
    "import matplotlib.pyplot as plt\n",
    "\n",
    "paired = pd.read_csv(\"paired.csv\", sep=',', header = 0)\n",
    "\n",
    "paired.head()"
   ]
  },
  {
   "cell_type": "code",
   "execution_count": 105,
   "id": "dfba52ce",
   "metadata": {},
   "outputs": [
    {
     "data": {
      "text/plain": [
       "<matplotlib.legend.Legend at 0x7f2fab8778b0>"
      ]
     },
     "execution_count": 105,
     "metadata": {},
     "output_type": "execute_result"
    },
    {
     "data": {
      "image/png": "[encoded data removed]",
      "text/plain": [
       "<Figure size 504x360 with 1 Axes>"
      ]
     },
     "metadata": {
      "needs_background": "light"
     },
     "output_type": "display_data"
    }
   ],
   "source": [
    "plt.figure(figsize=(7, 5))\n",
    "\n",
    "paired['August'].hist(alpha=0.6,bins=25,label='August', density=True)\n",
    "paired['November'].hist(alpha=0.8,bins=25,label='November', density=True)\n",
    "\n",
    "plt.xlabel('paired distribution')\n",
    "plt.legend()"
   ]
  },
  {
   "cell_type": "code",
   "execution_count": 106,
   "id": "39e1d6f1",
   "metadata": {},
   "outputs": [
    {
     "data": {
      "text/html": [
       "<div>\n",
       "<style scoped>\n",
       "    .dataframe tbody tr th:only-of-type {\n",
       "        vertical-align: middle;\n",
       "    }\n",
       "\n",
       "    .dataframe tbody tr th {\n",
       "        vertical-align: top;\n",
       "    }\n",
       "\n",
       "    .dataframe thead th {\n",
       "        text-align: right;\n",
       "    }\n",
       "</style>\n",
       "<table border=\"1\" class=\"dataframe\">\n",
       "  <thead>\n",
       "    <tr style=\"text-align: right;\">\n",
       "      <th></th>\n",
       "      <th>August</th>\n",
       "      <th>November</th>\n",
       "    </tr>\n",
       "  </thead>\n",
       "  <tbody>\n",
       "    <tr>\n",
       "      <th>count</th>\n",
       "      <td>13.000000</td>\n",
       "      <td>13.000000</td>\n",
       "    </tr>\n",
       "    <tr>\n",
       "      <th>mean</th>\n",
       "      <td>11.423077</td>\n",
       "      <td>16.323077</td>\n",
       "    </tr>\n",
       "    <tr>\n",
       "      <th>std</th>\n",
       "      <td>3.451607</td>\n",
       "      <td>6.886963</td>\n",
       "    </tr>\n",
       "    <tr>\n",
       "      <th>min</th>\n",
       "      <td>7.900000</td>\n",
       "      <td>10.500000</td>\n",
       "    </tr>\n",
       "    <tr>\n",
       "      <th>25%</th>\n",
       "      <td>8.300000</td>\n",
       "      <td>12.700000</td>\n",
       "    </tr>\n",
       "    <tr>\n",
       "      <th>50%</th>\n",
       "      <td>10.000000</td>\n",
       "      <td>15.300000</td>\n",
       "    </tr>\n",
       "    <tr>\n",
       "      <th>75%</th>\n",
       "      <td>13.400000</td>\n",
       "      <td>16.300000</td>\n",
       "    </tr>\n",
       "    <tr>\n",
       "      <th>max</th>\n",
       "      <td>18.300000</td>\n",
       "      <td>36.800000</td>\n",
       "    </tr>\n",
       "  </tbody>\n",
       "</table>\n",
       "</div>"
      ],
      "text/plain": [
       "          August   November\n",
       "count  13.000000  13.000000\n",
       "mean   11.423077  16.323077\n",
       "std     3.451607   6.886963\n",
       "min     7.900000  10.500000\n",
       "25%     8.300000  12.700000\n",
       "50%    10.000000  15.300000\n",
       "75%    13.400000  16.300000\n",
       "max    18.300000  36.800000"
      ]
     },
     "execution_count": 106,
     "metadata": {},
     "output_type": "execute_result"
    }
   ],
   "source": [
    "paired.describe()"
   ]
  },
  {
   "cell_type": "markdown",
   "id": "46caf62b",
   "metadata": {},
   "source": [
    "## T-test paired."
   ]
  },
  {
   "cell_type": "code",
   "execution_count": 107,
   "id": "d5737e18",
   "metadata": {},
   "outputs": [
    {
     "data": {
      "text/plain": [
       "Ttest_relResult(statistic=-2.3088956550760438, pvalue=0.03955525086687241)"
      ]
     },
     "execution_count": 107,
     "metadata": {},
     "output_type": "execute_result"
    }
   ],
   "source": [
    "stats.ttest_rel(paired['August'], paired['November'])"
   ]
  },
  {
   "cell_type": "markdown",
   "id": "a42e904e",
   "metadata": {},
   "source": [
    "## Paired Wilcoxon Test."
   ]
  },
  {
   "cell_type": "code",
   "execution_count": 108,
   "id": "4d10cee1",
   "metadata": {},
   "outputs": [
    {
     "name": "stdout",
     "output_type": "stream",
     "text": [
      "stat=16.000, p=0.040\n"
     ]
    }
   ],
   "source": [
    "stat, p = stats.wilcoxon(paired['August'], paired['November'])\n",
    "print('stat=%.3f, p=%.3f' % (stat, p))"
   ]
  },
  {
   "cell_type": "code",
   "execution_count": 109,
   "id": "4bf4fc0a",
   "metadata": {},
   "outputs": [
    {
     "name": "stdout",
     "output_type": "stream",
     "text": [
      "probably different distributions.\n"
     ]
    }
   ],
   "source": [
    "if p > 0.05:\n",
    "    \n",
    "    print('probably the same distributions.')\n",
    "\n",
    "else:\n",
    "    print('probably different distributions.')"
   ]
  },
  {
   "cell_type": "code",
   "execution_count": null,
   "id": "58f73ae8",
   "metadata": {},
   "outputs": [],
   "source": []
  }
 ],
 "metadata": {
  "kernelspec": {
   "display_name": "Python 3 (ipykernel)",
   "language": "python",
   "name": "python3"
  },
  "language_info": {
   "codemirror_mode": {
    "name": "ipython",
    "version": 3
   },
   "file_extension": ".py",
   "mimetype": "text/x-python",
   "name": "python",
   "nbconvert_exporter": "python",
   "pygments_lexer": "ipython3",
   "version": "3.8.10"
  }
 },
 "nbformat": 4,
 "nbformat_minor": 5
}
